{
 "cells": [
  {
   "cell_type": "code",
   "execution_count": 1,
   "metadata": {
    "pycharm": {
     "name": "#%%\n"
    }
   },
   "outputs": [],
   "source": [
    "import torch\n",
    "import matplotlib.pyplot as plt\n",
    "import cv2\n",
    "import joblib\n",
    "import quaternion as q\n",
    "import numpy as np\n",
    "from src.models.autoencoder.autoenc import Embedder\n",
    "import torch.nn.functional as F\n",
    "import imageio\n",
    "from IPython.display import clear_output, HTML, display\n",
    "import src.utils.pose_utils as pu\n",
    "import torchvision.transforms.functional as TF\n",
    "from einops import rearrange"
   ]
  },
  {
   "cell_type": "markdown",
   "metadata": {},
   "source": [
    "## Load Models\n",
    "- The noise models are from [Active Neural SLAM](https://github.com/devendrachaplot/Neural-SLAM)"
   ]
  },
  {
   "cell_type": "code",
   "execution_count": 2,
   "metadata": {},
   "outputs": [
    {
     "name": "stderr",
     "output_type": "stream",
     "text": [
      "/home/ad01493624/codes/venv_rnr/lib/python3.8/site-packages/sklearn/base.py:318: UserWarning: Trying to unpickle estimator GaussianMixture from version 0.22.2.post1 when using version 1.2.2. This might lead to breaking code or invalid results. Use at your own risk. For more info please refer to:\n",
      "https://scikit-learn.org/stable/model_persistence.html#security-maintainability-limitations\n",
      "  warnings.warn(\n"
     ]
    }
   ],
   "source": [
    "device = 'cuda'\n",
    "embedder = Embedder(pretrained_ckpt='pretrained/autoenc_large.ckpt',\n",
    "                   img_res=128, w_size=128, coordinate_scale=32, w_ch=32, nerf_res=128, voxel_res=128)\n",
    "embedder = embedder.to(device)#.eval()\n",
    "\n",
    "import pickle\n",
    "noise_dir = 'src/noise_models/'\n",
    "sensor_noise_front = pickle.load(open(noise_dir + \"sensor_noise_fwd.pkl\", \"rb\"))\n",
    "sensor_noise_right = pickle.load(open(noise_dir + \"sensor_noise_right.pkl\", \"rb\"))\n",
    "sensor_noise_left = pickle.load(open(noise_dir + \"sensor_noise_left.pkl\", \"rb\"))"
   ]
  },
  {
   "cell_type": "markdown",
   "metadata": {},
   "source": [
    "# Set up Habitat Simulator"
   ]
  },
  {
   "cell_type": "code",
   "execution_count": 3,
   "metadata": {},
   "outputs": [
    {
     "name": "stderr",
     "output_type": "stream",
     "text": [
      "2023-06-09 17:42:01,638 Initializing dataset PointNav-v1\n"
     ]
    },
    {
     "name": "stdout",
     "output_type": "stream",
     "text": [
      "Total 14 scenes found\n"
     ]
    }
   ],
   "source": [
    "import os\n",
    "os.environ['GLOG_minloglevel'] = \"3\"\n",
    "os.environ['MAGNUM_LOG'] = \"quiet\"\n",
    "os.environ['HABITAT_SIM_LOG'] = \"quiet\"\n",
    "import habitat\n",
    "from habitat import get_config\n",
    "from habitat.sims import make_sim\n",
    "\n",
    "config = get_config()\n",
    "cfg = config\n",
    "cfg.defrost()\n",
    "habitat_api_path = os.path.join(os.path.dirname(habitat.__file__), '../')\n",
    "cfg.DATASET.SCENES_DIR = os.path.join(habitat_api_path, cfg.DATASET.SCENES_DIR)\n",
    "cfg.DATASET.DATA_PATH = os.path.join(habitat_api_path, cfg.DATASET.DATA_PATH.replace(\"habitat-test-scenes\",\"gibson\"))\n",
    "cfg.SIMULATOR.SCENE_DATASET = 'data/scene_datasets/mp3d.scene_dataset_config.json'\n",
    "cfg.SIMULATOR.SCENE_DATASET = os.path.join(habitat_api_path, cfg.SIMULATOR.SCENE_DATASET)\n",
    "cfg.DATASET.TYPE = \"PointNav-v1\"\n",
    "cfg.SIMULATOR.RGB_SENSOR.HEIGHT = 128\n",
    "cfg.SIMULATOR.RGB_SENSOR.WIDTH = 128\n",
    "cfg.SIMULATOR.DEPTH_SENSOR.HEIGHT = 128\n",
    "cfg.SIMULATOR.DEPTH_SENSOR.WIDTH = 128\n",
    "cfg.TASK.SENSORS = cfg.SIMULATOR.AGENT_0.SENSORS = ['RGB_SENSOR', 'DEPTH_SENSOR']\n",
    "cfg.freeze()\n",
    "\n",
    "from habitat.datasets import make_dataset\n",
    "dataset = make_dataset('PointNav-v1')\n",
    "cfg.defrost()\n",
    "cfg.DATASET.SPLIT = 'val'\n",
    "cfg.freeze()\n",
    "val_scenes = dataset.get_scenes_to_load(cfg.DATASET)\n",
    "all_scenes =  val_scenes\n",
    "print(f'Total {len(all_scenes)} scenes found')"
   ]
  },
  {
   "cell_type": "code",
   "execution_count": 5,
   "metadata": {},
   "outputs": [
    {
     "name": "stdout",
     "output_type": "stream",
     "text": [
      "Cantwell\n"
     ]
    }
   ],
   "source": [
    "scene = np.random.choice(all_scenes)\n",
    "print(scene)"
   ]
  },
  {
   "cell_type": "code",
   "execution_count": 6,
   "metadata": {},
   "outputs": [
    {
     "name": "stderr",
     "output_type": "stream",
     "text": [
      "2023-06-09 17:42:05,105 initializing sim Sim-v0\n"
     ]
    }
   ],
   "source": [
    "try: sim.close()\n",
    "except: pass\n",
    "cfg.defrost()\n",
    "cfg.SIMULATOR.SCENE = os.path.join(cfg.DATASET.SCENES_DIR,'gibson_habitat/{}.glb'.format(scene))\n",
    "cfg.freeze()\n",
    "past_room = scene\n",
    "sim = make_sim(id_sim=cfg.SIMULATOR.TYPE, config=cfg.SIMULATOR)"
   ]
  },
  {
   "cell_type": "code",
   "execution_count": 7,
   "metadata": {},
   "outputs": [],
   "source": [
    "MAX_TIME = 1000\n",
    "VIS_RES = 256\n",
    "NUM_SAMPLE_PIXEL = 200\n",
    "OPT_LR = 0.001\n",
    "NUM_OPT = 10"
   ]
  },
  {
   "cell_type": "code",
   "execution_count": 8,
   "metadata": {},
   "outputs": [],
   "source": [
    "# These two functions are from NICE-SLAM (https://github.com/cvg/nice-slam/blob/master/src/common.py)\n",
    "def quad2rotation(quad):\n",
    "    bs = quad.shape[0]\n",
    "    qr, qi, qj, qk = quad[:, 0], quad[:, 1], quad[:, 2], quad[:, 3]\n",
    "    two_s = 2.0 / (quad * quad).sum(-1)\n",
    "    rot_mat = torch.zeros(bs, 3, 3).to(quad.get_device())\n",
    "    rot_mat[:, 0, 0] = 1 - two_s * (qj ** 2 + qk ** 2)\n",
    "    rot_mat[:, 0, 1] = two_s * (qi * qj - qk * qr)\n",
    "    rot_mat[:, 0, 2] = two_s * (qi * qk + qj * qr)\n",
    "    rot_mat[:, 1, 0] = two_s * (qi * qj + qk * qr)\n",
    "    rot_mat[:, 1, 1] = 1 - two_s * (qi ** 2 + qk ** 2)\n",
    "    rot_mat[:, 1, 2] = two_s * (qj * qk - qi * qr)\n",
    "    rot_mat[:, 2, 0] = two_s * (qi * qk - qj * qr)\n",
    "    rot_mat[:, 2, 1] = two_s * (qj * qk + qi * qr)\n",
    "    rot_mat[:, 2, 2] = 1 - two_s * (qi ** 2 + qj ** 2)\n",
    "    return rot_mat\n",
    "\n",
    "def get_camera_from_tensor(inputs):\n",
    "    N = len(inputs.shape)\n",
    "    if N == 1:\n",
    "        inputs = inputs.unsqueeze(0)\n",
    "    quad, T = inputs[:, :4], inputs[:, 4:]\n",
    "    R = quad2rotation(quad)\n",
    "    RT = torch.cat([R, T[:, :, None]], 2)\n",
    "    RT = torch.cat((RT, torch.tensor((0,0,0,1)).to(RT.device).view(1, 1,4)),1)\n",
    "    if N == 1:\n",
    "        RT = RT[0]\n",
    "    return RT\n",
    "\n",
    "####\n",
    "## Visualization code\n",
    "def visualize_traj(gt_locs, pred_locs, bias_locs):\n",
    "    all_locs = np.concatenate([np.array(gt_locs),np.array(pred_locs),np.array(bias_locs)])\n",
    "    x_min, x_max = all_locs[:,0].min(), all_locs[:,0].max()\n",
    "    y_min, y_max = all_locs[:,1].min(), all_locs[:,1].max()\n",
    "    \n",
    "    x_min, x_max = x_min - 1.0, x_max + 1.0\n",
    "    y_min, y_max = y_min - 1.0, y_max + 1.0\n",
    "    \n",
    "    norm_gt_locs = np.array(gt_locs)\n",
    "    norm_gt_locs[:,0] = (norm_gt_locs[:,0]-x_min)/(x_max - x_min + 1e-9)\n",
    "    norm_gt_locs[:,1] = (norm_gt_locs[:,1]-y_min)/(y_max - y_min + 1e-9)\n",
    "    \n",
    "    norm_pred_locs = np.array(pred_locs)\n",
    "    norm_pred_locs[:,0] = (norm_pred_locs[:,0]-x_min)/(x_max - x_min + 1e-9)\n",
    "    norm_pred_locs[:,1] = (norm_pred_locs[:,1]-y_min)/(y_max - y_min + 1e-9)\n",
    "    \n",
    "    norm_bias_locs = np.array(bias_locs)\n",
    "    norm_bias_locs[:,0] = (norm_bias_locs[:,0]-x_min)/(x_max - x_min + 1e-9)\n",
    "    norm_bias_locs[:,1] = (norm_bias_locs[:,1]-y_min)/(y_max - y_min + 1e-9)\n",
    "    \n",
    "    hw_gt_locs = ((norm_gt_locs * 2 - 1) * (VIS_RES/2) + VIS_RES/2).astype(np.uint8)\n",
    "    hw_pred_locs = ((norm_pred_locs * 2 - 1) * (VIS_RES/2) + VIS_RES/2).astype(np.uint8)\n",
    "    hw_bias_locs = ((norm_bias_locs * 2 - 1) * (VIS_RES/2) + VIS_RES/2).astype(np.uint8)\n",
    "    \n",
    "    hw_gt_locs = np.linspace(hw_gt_locs, np.roll(hw_gt_locs,-1, axis=0)).astype(np.uint8)\n",
    "    hw_pred_locs = np.linspace(hw_pred_locs, np.roll(hw_pred_locs,-1, axis=0)).astype(np.uint8)\n",
    "    hw_bias_locs = np.linspace(hw_bias_locs, np.roll(hw_bias_locs,-1, axis=0)).astype(np.uint8)\n",
    "    vis_traj = np.full((VIS_RES, VIS_RES, 3), 255, dtype=np.uint8)\n",
    "    for t in range(len(gt_locs)-1):\n",
    "        for ii in range(-2,3):\n",
    "            for jj in range(-2,3):\n",
    "                old = min(len(gt_locs) - t, 100)/100\n",
    "                vis_traj[hw_gt_locs[:,t,0]+ii, hw_gt_locs[:,t,1]+jj] = [int(255*old),int(255*old),int(255*old)]\n",
    "                vis_traj[hw_bias_locs[:,t,0]+ii, hw_bias_locs[:,t,1]+jj] = [int(255*old),255,int(255*old)]\n",
    "                vis_traj[hw_pred_locs[:,t,0]+ii, hw_pred_locs[:,t,1]+jj] = [255,int(255*old),int(255*old)]\n",
    "    return vis_traj"
   ]
  },
  {
   "cell_type": "markdown",
   "metadata": {},
   "source": [
    "## Pose Optimization"
   ]
  },
  {
   "cell_type": "code",
   "execution_count": null,
   "metadata": {
    "scrolled": true
   },
   "outputs": [],
   "source": [
    "from habitat.tasks.nav.shortest_path_follower import ShortestPathFollower\n",
    "\n",
    "# Sample an episode\n",
    "follower = ShortestPathFollower(sim, 0.5, return_one_hot=False)\n",
    "\n",
    "start_position = sim.sample_navigable_point()\n",
    "start_rotation = q.from_euler_angles([0., np.random.rand() * 2 * np.pi, 0.])\n",
    "\n",
    "\n",
    "sim.set_agent_state(start_position, start_rotation)\n",
    "done = False\n",
    "while True:\n",
    "    goal_point = sim.sample_navigable_point()\n",
    "    if abs(goal_point[1]-start_position[1]) > 0.5: continue\n",
    "    break\n",
    "    \n",
    "\n",
    "# Setup Initial RNR-Map\n",
    "K = torch.eye(3)\n",
    "K[0,0] = (embedder.img_res/2.) / np.tan(np.deg2rad(90.0) / 2)\n",
    "K[1,1] = -(embedder.img_res/2.) / np.tan(np.deg2rad(90.0) / 2)\n",
    "K = K.unsqueeze(0).to(device)\n",
    "\n",
    "orig_Rt = np.eye(4)\n",
    "orig_Rt[:3,3] = start_position\n",
    "orig_Rt[:3,:3] = q.as_rotation_matrix(start_rotation)\n",
    "orig_Rt = torch.from_numpy(np.linalg.inv(orig_Rt)).float()\n",
    "\n",
    "w, w_mask = None, None\n",
    "\n",
    "# Start an episode\n",
    "start_loc = curr_bias_loc = curr_gt_loc = curr_loc = pu.get_sim_location(start_position,start_rotation)\n",
    "\n",
    "action = None\n",
    "time_t = 0\n",
    "\n",
    "gt_locs, bias_locs, adjust_locs = [], [], []\n",
    "vis_traj = np.full((VIS_RES, VIS_RES, 3),255, dtype=np.uint8)\n",
    "images = []\n",
    "while not done:\n",
    "    state = sim.get_agent_state()\n",
    "    obs = sim.get_observations_at(state.position, state.rotation)\n",
    "    \n",
    "    new_gt_loc = pu.get_sim_location(state.position, state.rotation) \n",
    "    dx_gt, dy_gt, do_gt = pu.get_rel_pose_change(new_gt_loc, curr_gt_loc) # gt odometry\n",
    "    \n",
    "    if action is not None:\n",
    "        # Add noise to odometry\n",
    "        if action == 1:  ## Forward\n",
    "            dx, dy, do = sensor_noise_front.sample()[0][0]\n",
    "        elif action == 2:  ## Left\n",
    "            dx, dy, do = sensor_noise_left.sample()[0][0]\n",
    "        elif action == 3:  ## Right\n",
    "            dx, dy, do = sensor_noise_right.sample()[0][0]\n",
    "        do = np.deg2rad(do)\n",
    "        dp_gt = (dx_gt, dy_gt, do_gt)\n",
    "        curr_gt_loc = pu.get_new_pose(curr_gt_loc, dp_gt) # gt position\n",
    "        dp = (dx_gt + dx, dy_gt + dy, do_gt + do)\n",
    "        curr_loc = pu.get_new_pose(curr_loc, dp) # predicted position\n",
    "        curr_bias_loc = pu.get_new_pose(curr_bias_loc, dp) # predicted poistion without pose adjustment\n",
    "        \n",
    "    rgb_t = torch.from_numpy(obs['rgb']/255.).unsqueeze(0).permute(0,3,1,2).to(device)\n",
    "    depth_t = torch.from_numpy(obs['depth']).unsqueeze(0).permute(0,3,1,2).to(device)\n",
    "    if time_t > 0:\n",
    "        # Optimize pose\n",
    "        with torch.enable_grad():\n",
    "            x = torch.tensor(-curr_loc[1]).float().cuda()\n",
    "            y = torch.tensor(-curr_loc[0]).float().cuda()\n",
    "            z = torch.tensor(start_position[1]).float().cuda()\n",
    "            a = torch.tensor(curr_loc[2]).float().cuda()\n",
    "            x.requires_grad = y.requires_grad = a.requires_grad = True\n",
    "\n",
    "            K.requires_grad = False\n",
    "            w = w.detach()\n",
    "            w.requires_grad = False\n",
    "            optim = torch.optim.Adam([x, y, a], lr=OPT_LR)\n",
    "            \n",
    "            quad = torch.stack([torch.cos(a/2), torch.tensor(0.).cuda(), torch.sin(a/2), torch.tensor(0.).cuda()])\n",
    "            trans = torch.stack([x,z,y])\n",
    "            inputs = torch.cat((quad, trans))\n",
    "            Rt = get_camera_from_tensor(inputs)\n",
    "            Rt = Rt.inverse() @ orig_Rt.inverse().cuda()\n",
    "\n",
    "            \n",
    "            min_loss = 100\n",
    "            min_inputs = inputs.clone()\n",
    "            min_Rt = Rt.clone()\n",
    "            for i in range(NUM_OPT):\n",
    "                quad = torch.stack([torch.cos(a / 2), torch.tensor(0.).cuda(), torch.sin(a / 2), torch.tensor(0.).cuda()])\n",
    "                trans = torch.stack([x, z, y])\n",
    "                inputs = torch.cat((quad, trans))\n",
    "                Rt = get_camera_from_tensor(inputs)\n",
    "                Rt = Rt.inverse() @ orig_Rt.inverse().cuda()\n",
    "                rgb, depth, indices = embedder.sample_generate(w,{\"Rt\": Rt.unsqueeze(0).unsqueeze(1).float(),\n",
    "                                                                'K': K.unsqueeze(0).cuda()},\n",
    "                                                                  out_res=128, num_samples=NUM_SAMPLE_PIXEL)\n",
    "                flattened_rgb_t = rearrange(rgb_t, 'b c h w -> b (h w) c')[0]\n",
    "                rgb_loss = F.l1_loss(rgb[0], flattened_rgb_t[indices])\n",
    "                depth_loss = F.l1_loss(depth/10.0, depth_t.view(rgb_t.shape[0], -1)[:, indices])\n",
    "                loss = rgb_loss + depth_loss\n",
    "                if min_loss > loss:\n",
    "                    min_Rt = Rt.clone()\n",
    "                    min_loss = loss\n",
    "                    min_inputs = inputs.clone()\n",
    "                optim.zero_grad()\n",
    "                loss.backward()\n",
    "                #grad = torch.nn.utils.clip_grad_norm_(Rt, 0.1)\n",
    "                optim.step()  \n",
    "\n",
    "        Rt_t = min_Rt.detach()\n",
    "        world_position = min_inputs[-3:].detach().cpu().numpy()\n",
    "        world_rotation = q.from_float_array(min_inputs[:4].detach().cpu().numpy())\n",
    "        curr_loc = pu.get_sim_location(world_position, world_rotation)\n",
    "    else:\n",
    "        Rt_t = torch.eye(4).to(device)\n",
    "\n",
    "    adjust_locs.append(curr_loc)\n",
    "    gt_locs.append(curr_gt_loc)\n",
    "    bias_locs.append(curr_bias_loc)\n",
    "    \n",
    "    vis_traj = visualize_traj(gt_locs, adjust_locs, bias_locs)\n",
    "    \n",
    "    Rt_t = Rt_t.unsqueeze(0)\n",
    "\n",
    "    with torch.no_grad():\n",
    "        output = embedder.calculate_mask_func(depth_t*10.0, Rt_t, K)\n",
    "        sorted_indices, seq_unique_list, seq_unique_counts, _ = output\n",
    "        input_dict = {'rgb': rgb_t.unsqueeze(1), \n",
    "                      'depth': depth_t.unsqueeze(1), \n",
    "                    'sorted_indices': sorted_indices.unsqueeze(1), \n",
    "                    'seq_unique_counts': seq_unique_counts.unsqueeze(1),\n",
    "                      'seq_unique_list': seq_unique_list.unsqueeze(1)}\n",
    "        w, w_mask = embedder.embed_obs(input_dict, past_w=w, past_w_num_mask=w_mask)\n",
    "    \n",
    "        w_im = w.mean(0).mean(0).detach().cpu().numpy()\n",
    "        w_im = ((w_im - w_im.min())/(w_im.max()-w_im.min()) * 255).astype(np.uint8)\n",
    "        w_im = cv2.applyColorMap(w_im, cv2.COLORMAP_VIRIDIS)[:,:,::-1]\n",
    "    \n",
    "    view_im = np.concatenate([vis_traj, cv2.resize(obs['rgb'], (VIS_RES,VIS_RES)), \n",
    "                                       cv2.resize(w_im, (VIS_RES, VIS_RES))],1)\n",
    "    images.append(view_im)\n",
    "    cv2.imshow(\"View\", view_im[:,:,::-1])\n",
    "    key = cv2.waitKey(1)\n",
    "    if key == ord(\"q\"): break\n",
    "    \n",
    "    # robot action\n",
    "    action = follower.get_next_action(goal_point)\n",
    "    if time_t > MAX_TIME: break\n",
    "    if action is None or action == 0:\n",
    "        while True:\n",
    "            goal_point = sim.sample_navigable_point()\n",
    "            if abs(goal_point[1]-start_position[1]) > 0.5: continue\n",
    "            break\n",
    "        action = follower.get_next_action(goal_point)\n",
    "    sim.step(action)\n",
    "    time_t += 1"
   ]
  },
  {
   "cell_type": "code",
   "execution_count": 15,
   "metadata": {},
   "outputs": [
    {
     "data": {
      "text/html": [
       "<img src=demo/camera-tracking.gif>"
      ],
      "text/plain": [
       "<IPython.core.display.HTML object>"
      ]
     },
     "metadata": {},
     "output_type": "display_data"
    }
   ],
   "source": [
    "imageio.mimwrite(\"demo/camera-tracking.gif\", small_images, fps=10)\n",
    "display(HTML('<img src={}>'.format(\"demo/camera-tracking.gif\")))"
   ]
  },
  {
   "cell_type": "code",
   "execution_count": 10,
   "metadata": {},
   "outputs": [
    {
     "data": {
      "image/png": "[encoded data removed]",
      "text/plain": [
       "<Figure size 640x480 with 1 Axes>"
      ]
     },
     "metadata": {},
     "output_type": "display_data"
    }
   ],
   "source": [
    "T = len(gt_locs)\n",
    "plt.plot(np.array(gt_locs)[:T,0],np.array(gt_locs)[:T,1], label='gt', color='black')\n",
    "plt.plot(np.array(adjust_locs)[:T,0],np.array(adjust_locs)[:T,1],label='w/ pose_opt', color='red')\n",
    "plt.plot(np.array(bias_locs)[:T,0],np.array(bias_locs)[:T,1], label='w/o pose_opt', color='green')\n",
    "plt.legend()\n",
    "plt.show()"
   ]
  }
 ],
 "metadata": {
  "kernelspec": {
   "display_name": "rnr",
   "language": "python",
   "name": "rnr"
  },
  "language_info": {
   "codemirror_mode": {
    "name": "ipython",
    "version": 3
   },
   "file_extension": ".py",
   "mimetype": "text/x-python",
   "name": "python",
   "nbconvert_exporter": "python",
   "pygments_lexer": "ipython3",
   "version": "3.8.10"
  }
 },
 "nbformat": 4,
 "nbformat_minor": 1
}
